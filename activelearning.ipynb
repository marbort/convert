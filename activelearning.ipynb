{
 "cells": [
  {
   "cell_type": "code",
   "execution_count": 1,
   "metadata": {},
   "outputs": [
    {
     "name": "stderr",
     "output_type": "stream",
     "text": [
      "/home/marco/hsp-al/lib/python3.9/site-packages/tqdm/auto.py:21: TqdmWarning: IProgress not found. Please update jupyter and ipywidgets. See https://ipywidgets.readthedocs.io/en/stable/user_install.html\n",
      "  from .autonotebook import tqdm as notebook_tqdm\n"
     ]
    }
   ],
   "source": [
    "import hyif\n",
    "import hyset\n",
    "from hyobj import Molecule, PeriodicSystem\n",
    "import os\n",
    "import json\n",
    "import hyal\n",
    "import ase\n",
    "import copy\n",
    "from datetime import timedelta"
   ]
  },
  {
   "cell_type": "code",
   "execution_count": 3,
   "metadata": {},
   "outputs": [
    {
     "name": "stderr",
     "output_type": "stream",
     "text": [
      "/home/marco/hsp-al/lib/python3.9/site-packages/hyset/slurm/compute_settings.py:286: PendingDeprecationWarning: work_dir is deprecated. Use work_dir_local instead\n",
      "  warn_pending_deprecated(\n"
     ]
    }
   ],
   "source": [
    "myenv_calculator = hyset.create_compute_settings(\"betzy\",user=\"marcobo\",\n",
    "                                                 slurm_account=\"nn4654k\",\n",
    "                                                 job_time=timedelta(minutes=60),\n",
    "                                                 memory_per_cpu=\"2GB\",\n",
    "                                                 ntasks=64,\n",
    "                                                 env=[\"module load CP2K/2022.1-foss-2022a\"],\n",
    "                                                 work_dir=os.getcwd(),\n",
    "                                                 force_recompute=False,\n",
    "                                                 overwrite_files=True,\n",
    "                                                 slurm_extra=[\"--nodes=1\",\"--partition=preproc\"],\n",
    "                                                 data_dir_local=os.getcwd(), \n",
    "                                                 work_dir_local=os.getcwd(),\n",
    "                                                 submit_dir_remote=\"/cluster/work/users/marcobo/testHyAL\",\n",
    "                                                 data_dir_remote=\"/cluster/work/users/marcobo/testHyAL\",\n",
    "                                                 work_dir_remote=\"/cluster/work/users/marcobo/testHyAL\",\n",
    "                                                 )"
   ]
  },
  {
   "cell_type": "code",
   "execution_count": 4,
   "metadata": {},
   "outputs": [],
   "source": [
    "\n",
    "my_calculator = hyif.CP2K(\n",
    "    {'template': 'templates/template_cp2k.inp',\n",
    "        'check_version': False,\n",
    "     'options': {\n",
    "     }\n",
    "     },\n",
    "    compute_settings=myenv_calculator\n",
    ")\n"
   ]
  },
  {
   "cell_type": "code",
   "execution_count": 6,
   "metadata": {},
   "outputs": [
    {
     "ename": "FileNotFoundError",
     "evalue": "[Errno 2] No such file or directory: 'templates/HAUSER-TMP-4-0_meta-pos-1.xyz'",
     "output_type": "error",
     "traceback": [
      "\u001b[0;31m---------------------------------------------------------------------------\u001b[0m",
      "\u001b[0;31mFileNotFoundError\u001b[0m                         Traceback (most recent call last)",
      "\u001b[1;32m/run/media/marco/T7 Shield/SHARED/RATIO/WP1/HAUSER/ActiveLearning/activelearning.ipynb Cell 4\u001b[0m line \u001b[0;36m1\n\u001b[0;32m----> <a href='vscode-notebook-cell:/run/media/marco/T7%20Shield/SHARED/RATIO/WP1/HAUSER/ActiveLearning/activelearning.ipynb#W3sdW50aXRsZWQ%3D?line=0'>1</a>\u001b[0m trj\u001b[39m=\u001b[39mase\u001b[39m.\u001b[39;49mio\u001b[39m.\u001b[39;49mread(\u001b[39m'\u001b[39;49m\u001b[39mtemplates/HAUSER-TMP-4-0_meta-pos-1.xyz\u001b[39;49m\u001b[39m'\u001b[39;49m)\n",
      "File \u001b[0;32m~/.local/lib/python3.9/site-packages/ase/io/formats.py:729\u001b[0m, in \u001b[0;36mread\u001b[0;34m(filename, index, format, parallel, do_not_split_by_at_sign, **kwargs)\u001b[0m\n\u001b[1;32m    727\u001b[0m \u001b[39mif\u001b[39;00m index \u001b[39mis\u001b[39;00m \u001b[39mNone\u001b[39;00m:\n\u001b[1;32m    728\u001b[0m     index \u001b[39m=\u001b[39m \u001b[39m-\u001b[39m\u001b[39m1\u001b[39m\n\u001b[0;32m--> 729\u001b[0m \u001b[39mformat\u001b[39m \u001b[39m=\u001b[39m \u001b[39mformat\u001b[39m \u001b[39mor\u001b[39;00m filetype(filename, read\u001b[39m=\u001b[39;49m\u001b[39misinstance\u001b[39;49m(filename, \u001b[39mstr\u001b[39;49m))\n\u001b[1;32m    731\u001b[0m io \u001b[39m=\u001b[39m get_ioformat(\u001b[39mformat\u001b[39m)\n\u001b[1;32m    732\u001b[0m \u001b[39mif\u001b[39;00m \u001b[39misinstance\u001b[39m(index, (\u001b[39mslice\u001b[39m, \u001b[39mstr\u001b[39m)):\n",
      "File \u001b[0;32m~/.local/lib/python3.9/site-packages/ase/io/formats.py:920\u001b[0m, in \u001b[0;36mfiletype\u001b[0;34m(filename, read, guess)\u001b[0m\n\u001b[1;32m    917\u001b[0m     \u001b[39mreturn\u001b[39;00m ext\n\u001b[1;32m    919\u001b[0m \u001b[39mif\u001b[39;00m orig_filename \u001b[39m==\u001b[39m filename:\n\u001b[0;32m--> 920\u001b[0m     fd \u001b[39m=\u001b[39m open_with_compression(filename, \u001b[39m'\u001b[39;49m\u001b[39mrb\u001b[39;49m\u001b[39m'\u001b[39;49m)\n\u001b[1;32m    921\u001b[0m \u001b[39melse\u001b[39;00m:\n\u001b[1;32m    922\u001b[0m     fd \u001b[39m=\u001b[39m orig_filename  \u001b[39m# type: ignore\u001b[39;00m\n",
      "File \u001b[0;32m~/.local/lib/python3.9/site-packages/ase/io/formats.py:551\u001b[0m, in \u001b[0;36mopen_with_compression\u001b[0;34m(filename, mode)\u001b[0m\n\u001b[1;32m    548\u001b[0m     \u001b[39mreturn\u001b[39;00m lzma\u001b[39m.\u001b[39mopen(filename, mode)\n\u001b[1;32m    549\u001b[0m \u001b[39melse\u001b[39;00m:\n\u001b[1;32m    550\u001b[0m     \u001b[39m# Either None or unknown string\u001b[39;00m\n\u001b[0;32m--> 551\u001b[0m     \u001b[39mreturn\u001b[39;00m \u001b[39mopen\u001b[39;49m(filename, mode)\n",
      "\u001b[0;31mFileNotFoundError\u001b[0m: [Errno 2] No such file or directory: 'templates/HAUSER-TMP-4-0_meta-pos-1.xyz'"
     ]
    }
   ],
   "source": [
    "trj=ase.io.read('/run/media/marco/T7 Shield/SHARED/RATIO/WP1/HAUSER/ActiveLearning/templates/HAUSER-TMP-4-0_meta-pos-1.xyz')"
   ]
  },
  {
   "cell_type": "code",
   "execution_count": null,
   "metadata": {},
   "outputs": [],
   "source": []
  }
 ],
 "metadata": {
  "kernelspec": {
   "display_name": "Python 3",
   "language": "python",
   "name": "python3"
  },
  "language_info": {
   "codemirror_mode": {
    "name": "ipython",
    "version": 3
   },
   "file_extension": ".py",
   "mimetype": "text/x-python",
   "name": "python",
   "nbconvert_exporter": "python",
   "pygments_lexer": "ipython3",
   "version": "3.9.18"
  }
 },
 "nbformat": 4,
 "nbformat_minor": 2
}
